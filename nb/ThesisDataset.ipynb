{
 "cells": [
  {
   "cell_type": "code",
   "execution_count": 3,
   "id": "e50d7bb5",
   "metadata": {},
   "outputs": [],
   "source": [
    "import random\n",
    "\n",
    "import numpy as np\n",
    "import torch\n",
    "from torch.utils.data import Dataset, DataLoader"
   ]
  },
  {
   "cell_type": "code",
   "execution_count": 4,
   "id": "24ee4917",
   "metadata": {},
   "outputs": [
    {
     "name": "stdout",
     "output_type": "stream",
     "text": [
      "[[1 1]\n",
      " [1 1]]\n"
     ]
    }
   ],
   "source": [
    "def get_z(n):\n",
    "    out = np.eye(n, dtype=np.int)\n",
    "    out[[0,-1]] = 1\n",
    "    return out[::-1]\n",
    "\n",
    "example = get_z(2)\n",
    "print(example)\n",
    "\n",
    "# def get_z(n):\n",
    "#     return np.zeros((n, n), dtype=int)\n",
    "\n",
    "# sample = get_z(5)\n",
    "# print(sample)"
   ]
  },
  {
   "cell_type": "code",
   "execution_count": 5,
   "id": "4d04126e",
   "metadata": {
    "scrolled": true
   },
   "outputs": [],
   "source": [
    "# Create partial images\n",
    "\n",
    "def get_partial_images(list_length):\n",
    "    partial_images = list()\n",
    "\n",
    "    for _ in range(list_length):\n",
    "\n",
    "        partial_image = list()\n",
    "\n",
    "        for _ in range(3):\n",
    "            #initial = np.ndarray.copy(get_z(5))\n",
    "            binary_matrix = get_z(10)\n",
    "            print(binary_matrix)\n",
    "            #You get a negative stride (PyTorch word) if you don't apply np.flip()\n",
    "#             partial_image.append(torch.from_numpy(np.flip(binary_matrix,axis=0).copy()))\n",
    "            partial_image.append((np.flip(binary_matrix,axis=0).copy()))\n",
    "#             partial_images.append(np.flip(binary_matrix,axis=0).copy())\n",
    "\n",
    "        #partial_images.append(torch.IntTensor(partial_image).unsqueeze(0))\n",
    "        partial_images.append(torch.IntTensor(partial_image))\n",
    "                              \n",
    "    return partial_images"
   ]
  },
  {
   "cell_type": "code",
   "execution_count": 6,
   "id": "d4d28bd7",
   "metadata": {},
   "outputs": [
    {
     "name": "stdout",
     "output_type": "stream",
     "text": [
      "[[1 1 1 1 1 1 1 1 1 1]\n",
      " [0 0 0 0 0 0 0 0 1 0]\n",
      " [0 0 0 0 0 0 0 1 0 0]\n",
      " [0 0 0 0 0 0 1 0 0 0]\n",
      " [0 0 0 0 0 1 0 0 0 0]\n",
      " [0 0 0 0 1 0 0 0 0 0]\n",
      " [0 0 0 1 0 0 0 0 0 0]\n",
      " [0 0 1 0 0 0 0 0 0 0]\n",
      " [0 1 0 0 0 0 0 0 0 0]\n",
      " [1 1 1 1 1 1 1 1 1 1]]\n",
      "[[1 1 1 1 1 1 1 1 1 1]\n",
      " [0 0 0 0 0 0 0 0 1 0]\n",
      " [0 0 0 0 0 0 0 1 0 0]\n",
      " [0 0 0 0 0 0 1 0 0 0]\n",
      " [0 0 0 0 0 1 0 0 0 0]\n",
      " [0 0 0 0 1 0 0 0 0 0]\n",
      " [0 0 0 1 0 0 0 0 0 0]\n",
      " [0 0 1 0 0 0 0 0 0 0]\n",
      " [0 1 0 0 0 0 0 0 0 0]\n",
      " [1 1 1 1 1 1 1 1 1 1]]\n",
      "[[1 1 1 1 1 1 1 1 1 1]\n",
      " [0 0 0 0 0 0 0 0 1 0]\n",
      " [0 0 0 0 0 0 0 1 0 0]\n",
      " [0 0 0 0 0 0 1 0 0 0]\n",
      " [0 0 0 0 0 1 0 0 0 0]\n",
      " [0 0 0 0 1 0 0 0 0 0]\n",
      " [0 0 0 1 0 0 0 0 0 0]\n",
      " [0 0 1 0 0 0 0 0 0 0]\n",
      " [0 1 0 0 0 0 0 0 0 0]\n",
      " [1 1 1 1 1 1 1 1 1 1]]\n",
      "tensor([[[1, 1, 1, 1, 1, 1, 1, 1, 1, 1],\n",
      "         [0, 1, 0, 0, 0, 0, 0, 0, 0, 0],\n",
      "         [0, 0, 1, 0, 0, 0, 0, 0, 0, 0],\n",
      "         [0, 0, 0, 1, 0, 0, 0, 0, 0, 0],\n",
      "         [0, 0, 0, 0, 1, 0, 0, 0, 0, 0],\n",
      "         [0, 0, 0, 0, 0, 1, 0, 0, 0, 0],\n",
      "         [0, 0, 0, 0, 0, 0, 1, 0, 0, 0],\n",
      "         [0, 0, 0, 0, 0, 0, 0, 1, 0, 0],\n",
      "         [0, 0, 0, 0, 0, 0, 0, 0, 1, 0],\n",
      "         [1, 1, 1, 1, 1, 1, 1, 1, 1, 1]],\n",
      "\n",
      "        [[1, 1, 1, 1, 1, 1, 1, 1, 1, 1],\n",
      "         [0, 1, 0, 0, 0, 0, 0, 0, 0, 0],\n",
      "         [0, 0, 1, 0, 0, 0, 0, 0, 0, 0],\n",
      "         [0, 0, 0, 1, 0, 0, 0, 0, 0, 0],\n",
      "         [0, 0, 0, 0, 1, 0, 0, 0, 0, 0],\n",
      "         [0, 0, 0, 0, 0, 1, 0, 0, 0, 0],\n",
      "         [0, 0, 0, 0, 0, 0, 1, 0, 0, 0],\n",
      "         [0, 0, 0, 0, 0, 0, 0, 1, 0, 0],\n",
      "         [0, 0, 0, 0, 0, 0, 0, 0, 1, 0],\n",
      "         [1, 1, 1, 1, 1, 1, 1, 1, 1, 1]],\n",
      "\n",
      "        [[1, 1, 1, 1, 1, 1, 1, 1, 1, 1],\n",
      "         [0, 1, 0, 0, 0, 0, 0, 0, 0, 0],\n",
      "         [0, 0, 1, 0, 0, 0, 0, 0, 0, 0],\n",
      "         [0, 0, 0, 1, 0, 0, 0, 0, 0, 0],\n",
      "         [0, 0, 0, 0, 1, 0, 0, 0, 0, 0],\n",
      "         [0, 0, 0, 0, 0, 1, 0, 0, 0, 0],\n",
      "         [0, 0, 0, 0, 0, 0, 1, 0, 0, 0],\n",
      "         [0, 0, 0, 0, 0, 0, 0, 1, 0, 0],\n",
      "         [0, 0, 0, 0, 0, 0, 0, 0, 1, 0],\n",
      "         [1, 1, 1, 1, 1, 1, 1, 1, 1, 1]]], dtype=torch.int32)\n",
      "<class 'torch.Tensor'>\n",
      "torch.Size([3, 10, 10])\n"
     ]
    }
   ],
   "source": [
    "paths = get_partial_images(1)\n",
    "print(paths[0])\n",
    "print(type(paths[0]))\n",
    "print(paths[0].shape)"
   ]
  },
  {
   "cell_type": "code",
   "execution_count": 34,
   "id": "d9abe584",
   "metadata": {},
   "outputs": [],
   "source": [
    "# Create paths\n",
    "\n",
    "def get_paths(list_length):\n",
    "    paths = list()\n",
    "\n",
    "    for _ in range(list_length): # This range should be len(partial_images)\n",
    "        binary_matrix = get_z(5)\n",
    "        #paths.append(torch.from_numpy(np.flip(binary_matrix,axis=0).copy()))\n",
    "        paths.append(np.flip(binary_matrix,axis=0).copy())\n",
    "        \n",
    "    return torch.IntTensor(paths)"
   ]
  },
  {
   "cell_type": "code",
   "execution_count": 35,
   "id": "fcdea2c9",
   "metadata": {},
   "outputs": [
    {
     "name": "stdout",
     "output_type": "stream",
     "text": [
      "tensor([[[1, 1, 1, 1, 1],\n",
      "         [0, 1, 0, 0, 0],\n",
      "         [0, 0, 1, 0, 0],\n",
      "         [0, 0, 0, 1, 0],\n",
      "         [1, 1, 1, 1, 1]]], dtype=torch.int32)\n"
     ]
    }
   ],
   "source": [
    "paths = get_paths(1)\n",
    "print(paths)\n",
    "# print(paths.shape)"
   ]
  },
  {
   "cell_type": "code",
   "execution_count": 36,
   "id": "150f1546",
   "metadata": {},
   "outputs": [],
   "source": [
    "# Create actions\n",
    "\n",
    "def get_actions(list_length):\n",
    "    actions = list()\n",
    "\n",
    "    for _ in range(list_length):\n",
    "\n",
    "        action = list()\n",
    "\n",
    "        for _ in range(3):\n",
    "            binary_matrix = get_z(5)\n",
    "            action.append(torch.from_numpy(np.flip(binary_matrix,axis=0).copy()))\n",
    "\n",
    "        actions.append(action)\n",
    "\n",
    "    return actions"
   ]
  },
  {
   "cell_type": "code",
   "execution_count": 37,
   "id": "b1429842",
   "metadata": {},
   "outputs": [
    {
     "name": "stdout",
     "output_type": "stream",
     "text": [
      "[[1 1 1 ... 1 1 1]\n",
      " [0 0 0 ... 0 1 0]\n",
      " [0 0 0 ... 1 0 0]\n",
      " ...\n",
      " [0 0 1 ... 0 0 0]\n",
      " [0 1 0 ... 0 0 0]\n",
      " [1 1 1 ... 1 1 1]]\n",
      "[[1 1 1 ... 1 1 1]\n",
      " [0 0 0 ... 0 1 0]\n",
      " [0 0 0 ... 1 0 0]\n",
      " ...\n",
      " [0 0 1 ... 0 0 0]\n",
      " [0 1 0 ... 0 0 0]\n",
      " [1 1 1 ... 1 1 1]]\n",
      "[[1 1 1 ... 1 1 1]\n",
      " [0 0 0 ... 0 1 0]\n",
      " [0 0 0 ... 1 0 0]\n",
      " ...\n",
      " [0 0 1 ... 0 0 0]\n",
      " [0 1 0 ... 0 0 0]\n",
      " [1 1 1 ... 1 1 1]]\n",
      "[tensor([[[1, 1, 1,  ..., 1, 1, 1],\n",
      "         [0, 1, 0,  ..., 0, 0, 0],\n",
      "         [0, 0, 1,  ..., 0, 0, 0],\n",
      "         ...,\n",
      "         [0, 0, 0,  ..., 1, 0, 0],\n",
      "         [0, 0, 0,  ..., 0, 1, 0],\n",
      "         [1, 1, 1,  ..., 1, 1, 1]],\n",
      "\n",
      "        [[1, 1, 1,  ..., 1, 1, 1],\n",
      "         [0, 1, 0,  ..., 0, 0, 0],\n",
      "         [0, 0, 1,  ..., 0, 0, 0],\n",
      "         ...,\n",
      "         [0, 0, 0,  ..., 1, 0, 0],\n",
      "         [0, 0, 0,  ..., 0, 1, 0],\n",
      "         [1, 1, 1,  ..., 1, 1, 1]],\n",
      "\n",
      "        [[1, 1, 1,  ..., 1, 1, 1],\n",
      "         [0, 1, 0,  ..., 0, 0, 0],\n",
      "         [0, 0, 1,  ..., 0, 0, 0],\n",
      "         ...,\n",
      "         [0, 0, 0,  ..., 1, 0, 0],\n",
      "         [0, 0, 0,  ..., 0, 1, 0],\n",
      "         [1, 1, 1,  ..., 1, 1, 1]]], dtype=torch.int32)]\n",
      "<class 'torch.Tensor'>\n",
      "torch.Size([3, 100, 100])\n"
     ]
    }
   ],
   "source": [
    "paths = get_partial_images(1)\n",
    "print(paths)\n",
    "print(type(paths[0]))\n",
    "print(paths[0].shape)"
   ]
  },
  {
   "cell_type": "code",
   "execution_count": 38,
   "id": "4bda1b8b",
   "metadata": {},
   "outputs": [],
   "source": [
    "class PlanningDataset(Dataset):\n",
    "    def __init__(self, list_length):\n",
    "        self.partial_images = get_partial_images(list_length)\n",
    "#         self.paths = get_paths(list_length)\n",
    "#         self.actions = get_actions(list_length) \n",
    "        self.list_length = list_length\n",
    "\n",
    "    def __len__(self):\n",
    "        return self.list_length\n",
    "\n",
    "    def __getitem__(self, idx): \n",
    "#         sample = [[self.partial_images[idx], self.paths[idx], self.actions[idx]], random.randrange(0, 9)]\n",
    "        sample = self.partial_images[idx], torch.Tensor([random.random()]).float()\n",
    "\n",
    "        return sample"
   ]
  },
  {
   "cell_type": "code",
   "execution_count": 39,
   "id": "3bf55393",
   "metadata": {},
   "outputs": [
    {
     "name": "stdout",
     "output_type": "stream",
     "text": [
      "[[1 1 1 ... 1 1 1]\n",
      " [0 0 0 ... 0 1 0]\n",
      " [0 0 0 ... 1 0 0]\n",
      " ...\n",
      " [0 0 1 ... 0 0 0]\n",
      " [0 1 0 ... 0 0 0]\n",
      " [1 1 1 ... 1 1 1]]\n",
      "[[1 1 1 ... 1 1 1]\n",
      " [0 0 0 ... 0 1 0]\n",
      " [0 0 0 ... 1 0 0]\n",
      " ...\n",
      " [0 0 1 ... 0 0 0]\n",
      " [0 1 0 ... 0 0 0]\n",
      " [1 1 1 ... 1 1 1]]\n",
      "[[1 1 1 ... 1 1 1]\n",
      " [0 0 0 ... 0 1 0]\n",
      " [0 0 0 ... 1 0 0]\n",
      " ...\n",
      " [0 0 1 ... 0 0 0]\n",
      " [0 1 0 ... 0 0 0]\n",
      " [1 1 1 ... 1 1 1]]\n",
      "tensor([0.0650])\n",
      "<class 'torch.Tensor'>\n"
     ]
    }
   ],
   "source": [
    "dataset = PlanningDataset(1)\n",
    "print(dataset[0][1])\n",
    "print(type(dataset[0][1]))"
   ]
  },
  {
   "cell_type": "code",
   "execution_count": 40,
   "id": "0ca3dbff",
   "metadata": {},
   "outputs": [],
   "source": [
    "dataloader = DataLoader(dataset, batch_size=1,\n",
    "                        shuffle=True, num_workers=0)\n",
    "\n"
   ]
  },
  {
   "cell_type": "code",
   "execution_count": 41,
   "id": "6239a085",
   "metadata": {},
   "outputs": [
    {
     "name": "stdout",
     "output_type": "stream",
     "text": [
      "image:  tensor([[[[1, 1, 1,  ..., 1, 1, 1],\n",
      "          [0, 1, 0,  ..., 0, 0, 0],\n",
      "          [0, 0, 1,  ..., 0, 0, 0],\n",
      "          ...,\n",
      "          [0, 0, 0,  ..., 1, 0, 0],\n",
      "          [0, 0, 0,  ..., 0, 1, 0],\n",
      "          [1, 1, 1,  ..., 1, 1, 1]],\n",
      "\n",
      "         [[1, 1, 1,  ..., 1, 1, 1],\n",
      "          [0, 1, 0,  ..., 0, 0, 0],\n",
      "          [0, 0, 1,  ..., 0, 0, 0],\n",
      "          ...,\n",
      "          [0, 0, 0,  ..., 1, 0, 0],\n",
      "          [0, 0, 0,  ..., 0, 1, 0],\n",
      "          [1, 1, 1,  ..., 1, 1, 1]],\n",
      "\n",
      "         [[1, 1, 1,  ..., 1, 1, 1],\n",
      "          [0, 1, 0,  ..., 0, 0, 0],\n",
      "          [0, 0, 1,  ..., 0, 0, 0],\n",
      "          ...,\n",
      "          [0, 0, 0,  ..., 1, 0, 0],\n",
      "          [0, 0, 0,  ..., 0, 1, 0],\n",
      "          [1, 1, 1,  ..., 1, 1, 1]]]], dtype=torch.int32)\n",
      "labels:  tensor([[0.0341]])\n"
     ]
    }
   ],
   "source": [
    "def show_batch(dl):\n",
    "    \"\"\"Plot images grid of single batch\"\"\"\n",
    "    for images, labels in dl:\n",
    "        print(\"image: \", images)\n",
    "        print(\"labels: \", labels)\n",
    "        \n",
    "show_batch(dataloader)"
   ]
  },
  {
   "cell_type": "code",
   "execution_count": null,
   "id": "bcd85b0f",
   "metadata": {},
   "outputs": [],
   "source": []
  }
 ],
 "metadata": {
  "kernelspec": {
   "display_name": "Python 3 (ipykernel)",
   "language": "python",
   "name": "python3"
  },
  "language_info": {
   "codemirror_mode": {
    "name": "ipython",
    "version": 3
   },
   "file_extension": ".py",
   "mimetype": "text/x-python",
   "name": "python",
   "nbconvert_exporter": "python",
   "pygments_lexer": "ipython3",
   "version": "3.8.10"
  }
 },
 "nbformat": 4,
 "nbformat_minor": 5
}